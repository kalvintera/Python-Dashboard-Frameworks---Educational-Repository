{
 "cells": [
  {
   "cell_type": "code",
   "execution_count": 1,
   "outputs": [],
   "source": [
    "import ipywidgets as widgets\n",
    "import plotly.express as px\n",
    "import pandas as pd\n",
    "\n",
    "# Daten laden\n",
    "df = pd.read_csv('https://raw.githubusercontent.com/plotly/datasets/master/gapminderDataFiveYear.csv')\n",
    "\n",
    "# Dropdown-Widget erstellen\n",
    "country_dropdown = widgets.Dropdown(\n",
    "    options=df['country'].unique(),\n",
    "    value='Germany',\n",
    "    description='Country:',\n",
    ")\n"
   ],
   "metadata": {
    "collapsed": false,
    "ExecuteTime": {
     "end_time": "2025-01-17T19:08:41.882213900Z",
     "start_time": "2025-01-17T19:08:39.757988100Z"
    }
   },
   "id": "initial_id"
  },
  {
   "cell_type": "markdown",
   "source": [
    "### Zusammenfassung der wichtigsten Elemente\n",
    "- **Voilà:** Rendert das Notebook als saubere Web-App ohne Code-Ausgabe.\n",
    "- **ipywidgets:** Ermöglicht interaktive Widgets wie Schieberegler, Dropdowns oder Buttons.\n",
    "- **Matplotlib/Plotly:** Für dynamische Diagramme.\n",
    "- **widgets.interactive:** Verknüpft Funktionen direkt mit Widgets.\n",
    "- **widgets.interactive_output:** Verknüpft Widgets mit einer Funktion, zeigt aber nur die Ausgabe an – keine Widgets. Daher wird davor display() verwendet\n",
    "**Layouts (VBox, HBox):** Organisiert Widgets im Interface.\n",
    "\n",
    "> **Templating Beispiel:**  <a href=\"https://jupyter-tutorial.readthedocs.io/de/latest/dashboards/voila/templating.html\">https://jupyter-tutorial.readthedocs.io/de/latest/dashboards/voila/templating.html</a>\n"
   ],
   "metadata": {
    "collapsed": false
   },
   "id": "82841cb575750660"
  },
  {
   "cell_type": "code",
   "execution_count": null,
   "id": "fb15ad09d6a97d66",
   "metadata": {
    "collapsed": false,
    "is_executing": true,
    "ExecuteTime": {
     "start_time": "2025-01-17T19:08:45.631696700Z"
    }
   },
   "outputs": [
    {
     "data": {
      "text/plain": "Dropdown(description='Country:', index=47, options=('Afghanistan', 'Albania', 'Algeria', 'Angola', 'Argentina'…",
      "application/vnd.jupyter.widget-view+json": {
       "version_major": 2,
       "version_minor": 0,
       "model_id": "fa026f5c033144eba99edf4dbab4eccc"
      }
     },
     "metadata": {},
     "output_type": "display_data"
    },
    {
     "data": {
      "text/plain": "Output()",
      "application/vnd.jupyter.widget-view+json": {
       "version_major": 2,
       "version_minor": 0,
       "model_id": "3f40bd3edf6e4daf81720d11329cf699"
      }
     },
     "execution_count": 2,
     "metadata": {},
     "output_type": "execute_result"
    }
   ],
   "source": [
    "def display_country_data(country):\n",
    "    df_filtered = df[df.country == country]\n",
    "    fig = px.line(data_frame=df_filtered, x=df_filtered.year, y=df_filtered.gdpPercap, title=f'GDP Per Capita of {country}')\n",
    "    return fig.show()\n",
    "\n",
    "display(country_dropdown)\n",
    "widgets.interactive_output(display_country_data, {\"country\": country_dropdown})\n",
    "\n",
    "# ALTERNATIVE\n",
    "# widgets.interactive(display_country_data, country=country_dropdown)\n",
    "\n"
   ]
  },
  {
   "cell_type": "code",
   "execution_count": null,
   "outputs": [],
   "source": [],
   "metadata": {
    "collapsed": false
   },
   "id": "a343c9bbf2e2a86b"
  }
 ],
 "metadata": {
  "kernelspec": {
   "display_name": "Python 3 (ipykernel)",
   "language": "python",
   "name": "python3"
  },
  "language_info": {
   "codemirror_mode": {
    "name": "ipython",
    "version": 3
   },
   "file_extension": ".py",
   "mimetype": "text/x-python",
   "name": "python",
   "nbconvert_exporter": "python",
   "pygments_lexer": "ipython3",
   "version": "3.11.6"
  }
 },
 "nbformat": 4,
 "nbformat_minor": 5
}

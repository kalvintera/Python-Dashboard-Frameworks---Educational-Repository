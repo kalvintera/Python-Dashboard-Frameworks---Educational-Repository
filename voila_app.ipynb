{
 "cells": [
  {
   "cell_type": "code",
   "execution_count": 37,
   "id": "initial_id",
   "metadata": {
    "ExecuteTime": {
     "end_time": "2024-01-04T19:46:35.664804200Z",
     "start_time": "2024-01-04T19:46:35.558686400Z"
    }
   },
   "outputs": [],
   "source": [
    "import ipywidgets as widgets\n",
    "import plotly.express as px\n",
    "import pandas as pd\n",
    "\n",
    "# Daten laden\n",
    "df = pd.read_csv('https://raw.githubusercontent.com/plotly/datasets/master/gapminderDataFiveYear.csv')\n",
    "\n",
    "# Dropdown-Widget erstellen\n",
    "country_dropdown = widgets.Dropdown(\n",
    "    options=df['country'].unique(),\n",
    "    value='Germany',\n",
    "    description='Country:',\n",
    ")\n"
   ]
  },
  {
   "cell_type": "code",
   "execution_count": 38,
   "id": "47523e35e440f941",
   "metadata": {
    "collapsed": false,
    "ExecuteTime": {
     "end_time": "2024-01-04T19:46:36.005566200Z",
     "start_time": "2024-01-04T19:46:35.997371400Z"
    }
   },
   "outputs": [],
   "source": [
    "# display(country_dropdown)"
   ]
  },
  {
   "cell_type": "code",
   "execution_count": 47,
   "id": "76f444c4e3e5ff53",
   "metadata": {
    "collapsed": false,
    "ExecuteTime": {
     "end_time": "2024-01-04T20:06:16.756784300Z",
     "start_time": "2024-01-04T20:06:16.739700900Z"
    }
   },
   "outputs": [
    {
     "data": {
      "text/plain": "          country  year         pop continent  lifeExp   gdpPercap\n0     Afghanistan  1952   8425333.0      Asia   28.801  779.445314\n1     Afghanistan  1957   9240934.0      Asia   30.332  820.853030\n2     Afghanistan  1962  10267083.0      Asia   31.997  853.100710\n3     Afghanistan  1967  11537966.0      Asia   34.020  836.197138\n4     Afghanistan  1972  13079460.0      Asia   36.088  739.981106\n...           ...   ...         ...       ...      ...         ...\n1699     Zimbabwe  1987   9216418.0    Africa   62.351  706.157306\n1700     Zimbabwe  1992  10704340.0    Africa   60.377  693.420786\n1701     Zimbabwe  1997  11404948.0    Africa   46.809  792.449960\n1702     Zimbabwe  2002  11926563.0    Africa   39.989  672.038623\n1703     Zimbabwe  2007  12311143.0    Africa   43.487  469.709298\n\n[1704 rows x 6 columns]",
      "text/html": "<div>\n<style scoped>\n    .dataframe tbody tr th:only-of-type {\n        vertical-align: middle;\n    }\n\n    .dataframe tbody tr th {\n        vertical-align: top;\n    }\n\n    .dataframe thead th {\n        text-align: right;\n    }\n</style>\n<table border=\"1\" class=\"dataframe\">\n  <thead>\n    <tr style=\"text-align: right;\">\n      <th></th>\n      <th>country</th>\n      <th>year</th>\n      <th>pop</th>\n      <th>continent</th>\n      <th>lifeExp</th>\n      <th>gdpPercap</th>\n    </tr>\n  </thead>\n  <tbody>\n    <tr>\n      <th>0</th>\n      <td>Afghanistan</td>\n      <td>1952</td>\n      <td>8425333.0</td>\n      <td>Asia</td>\n      <td>28.801</td>\n      <td>779.445314</td>\n    </tr>\n    <tr>\n      <th>1</th>\n      <td>Afghanistan</td>\n      <td>1957</td>\n      <td>9240934.0</td>\n      <td>Asia</td>\n      <td>30.332</td>\n      <td>820.853030</td>\n    </tr>\n    <tr>\n      <th>2</th>\n      <td>Afghanistan</td>\n      <td>1962</td>\n      <td>10267083.0</td>\n      <td>Asia</td>\n      <td>31.997</td>\n      <td>853.100710</td>\n    </tr>\n    <tr>\n      <th>3</th>\n      <td>Afghanistan</td>\n      <td>1967</td>\n      <td>11537966.0</td>\n      <td>Asia</td>\n      <td>34.020</td>\n      <td>836.197138</td>\n    </tr>\n    <tr>\n      <th>4</th>\n      <td>Afghanistan</td>\n      <td>1972</td>\n      <td>13079460.0</td>\n      <td>Asia</td>\n      <td>36.088</td>\n      <td>739.981106</td>\n    </tr>\n    <tr>\n      <th>...</th>\n      <td>...</td>\n      <td>...</td>\n      <td>...</td>\n      <td>...</td>\n      <td>...</td>\n      <td>...</td>\n    </tr>\n    <tr>\n      <th>1699</th>\n      <td>Zimbabwe</td>\n      <td>1987</td>\n      <td>9216418.0</td>\n      <td>Africa</td>\n      <td>62.351</td>\n      <td>706.157306</td>\n    </tr>\n    <tr>\n      <th>1700</th>\n      <td>Zimbabwe</td>\n      <td>1992</td>\n      <td>10704340.0</td>\n      <td>Africa</td>\n      <td>60.377</td>\n      <td>693.420786</td>\n    </tr>\n    <tr>\n      <th>1701</th>\n      <td>Zimbabwe</td>\n      <td>1997</td>\n      <td>11404948.0</td>\n      <td>Africa</td>\n      <td>46.809</td>\n      <td>792.449960</td>\n    </tr>\n    <tr>\n      <th>1702</th>\n      <td>Zimbabwe</td>\n      <td>2002</td>\n      <td>11926563.0</td>\n      <td>Africa</td>\n      <td>39.989</td>\n      <td>672.038623</td>\n    </tr>\n    <tr>\n      <th>1703</th>\n      <td>Zimbabwe</td>\n      <td>2007</td>\n      <td>12311143.0</td>\n      <td>Africa</td>\n      <td>43.487</td>\n      <td>469.709298</td>\n    </tr>\n  </tbody>\n</table>\n<p>1704 rows × 6 columns</p>\n</div>"
     },
     "execution_count": 47,
     "metadata": {},
     "output_type": "execute_result"
    }
   ],
   "source": [
    "df"
   ]
  },
  {
   "cell_type": "code",
   "execution_count": 40,
   "id": "fb15ad09d6a97d66",
   "metadata": {
    "collapsed": false,
    "ExecuteTime": {
     "end_time": "2024-01-04T19:46:36.919359500Z",
     "start_time": "2024-01-04T19:46:36.892110100Z"
    }
   },
   "outputs": [
    {
     "data": {
      "text/plain": "Dropdown(description='Country:', index=47, options=('Afghanistan', 'Albania', 'Algeria', 'Angola', 'Argentina'…",
      "application/vnd.jupyter.widget-view+json": {
       "version_major": 2,
       "version_minor": 0,
       "model_id": "0c9e5845db5d4f338138a24688d2d685"
      }
     },
     "metadata": {},
     "output_type": "display_data"
    },
    {
     "data": {
      "text/plain": "Output()",
      "application/vnd.jupyter.widget-view+json": {
       "version_major": 2,
       "version_minor": 0,
       "model_id": "158eb644cd5640f9a68cbc628f07cb8a"
      }
     },
     "execution_count": 40,
     "metadata": {},
     "output_type": "execute_result"
    }
   ],
   "source": [
    "def display_country_data(country):\n",
    "    df_filtered = df[df.country == country]\n",
    "    fig = px.line(data_frame=df_filtered, x=df_filtered.year, y=df_filtered.gdpPercap, title=f'GDP Per Capita of {country}')\n",
    "    return fig.show()\n",
    "\n",
    "display(country_dropdown)\n",
    "widgets.interactive_output(display_country_data, {\"country\": country_dropdown})\n",
    "\n",
    "# display(country_dropdown, output)"
   ]
  },
  {
   "cell_type": "code",
   "execution_count": 46,
   "outputs": [
    {
     "data": {
      "text/plain": "Dropdown(description='Country:', index=14, options=('Afghanistan', 'Albania', 'Algeria', 'Angola', 'Argentina'…",
      "application/vnd.jupyter.widget-view+json": {
       "version_major": 2,
       "version_minor": 0,
       "model_id": "0c9e5845db5d4f338138a24688d2d685"
      }
     },
     "metadata": {},
     "output_type": "display_data"
    },
    {
     "data": {
      "text/plain": "HBox(children=(Output(), Output()))",
      "application/vnd.jupyter.widget-view+json": {
       "version_major": 2,
       "version_minor": 0,
       "model_id": "c1dbc19b267848cb804803bb09d813f4"
      }
     },
     "metadata": {},
     "output_type": "display_data"
    }
   ],
   "source": [
    "def create_life_expectancy_plot(country):\n",
    "    data = df[df['country'] == country]\n",
    "    fig = px.line(data, x='year', y='lifeExp', title=f'Life Expectancy in {country}')\n",
    "    return fig.show()\n",
    "\n",
    "display(country_dropdown)\n",
    "# Erzeugung der interaktiven Ausgabe für beide Grafiken\n",
    "gdp_output = widgets.interactive_output(display_country_data, {\"country\": country_dropdown})\n",
    "life_exp_output = widgets.interactive_output(create_life_expectancy_plot, {\"country\": country_dropdown})\n",
    "\n",
    "# Anordnung der interaktiven Ausgaben in einer horizontalen Box\n",
    "hbox = widgets.HBox([gdp_output, life_exp_output])\n",
    "display(hbox)\n",
    "             "
   ],
   "metadata": {
    "collapsed": false,
    "ExecuteTime": {
     "end_time": "2024-01-04T19:52:41.480636100Z",
     "start_time": "2024-01-04T19:52:41.425002900Z"
    }
   },
   "id": "887c57fc8542b024"
  }
 ],
 "metadata": {
  "kernelspec": {
   "display_name": "Python 3 (ipykernel)",
   "language": "python",
   "name": "python3"
  },
  "language_info": {
   "codemirror_mode": {
    "name": "ipython",
    "version": 3
   },
   "file_extension": ".py",
   "mimetype": "text/x-python",
   "name": "python",
   "nbconvert_exporter": "python",
   "pygments_lexer": "ipython3",
   "version": "3.11.6"
  }
 },
 "nbformat": 4,
 "nbformat_minor": 5
}
